{
 "cells": [
  {
   "cell_type": "markdown",
   "metadata": {},
   "source": [
    "### Insert Strategies:\n",
    "There are different types of Insert Strategies which can be used to create a Quantum Circuit using Cirq. These insert strategies help in the execution of the circuit and also make the creation of new moments easier"
   ]
  },
  {
   "cell_type": "code",
   "execution_count": null,
   "metadata": {},
   "outputs": [],
   "source": [
    "%%time\n",
    "from cirq.ops import CZ, H\n",
    "from cirq.circuits import InsertStrategy\n",
    "q0, q1, q2 = [cirq.GridQubit(i, 0) for i in range(3)]"
   ]
  },
  {
   "cell_type": "markdown",
   "metadata": {},
   "source": [
    "Next up is the 'EARLIEST' Insert Strategy which enters the new Qubit on the first line on execution"
   ]
  },
  {
   "cell_type": "code",
   "execution_count": null,
   "metadata": {},
   "outputs": [],
   "source": [
    "circuit = cirq.Circuit()\n",
    "circuit.append([CZ(q0, q1)])\n",
    "circuit.append([H(q0), H(q2)], strategy=InsertStrategy.EARLIEST)\n",
    "print(circuit)"
   ]
  },
  {
   "cell_type": "markdown",
   "metadata": {},
   "source": [
    "Next up is the 'NEW' insert strategy which creates a new moment and adds the operation in it"
   ]
  },
  {
   "cell_type": "code",
   "execution_count": null,
   "metadata": {},
   "outputs": [],
   "source": [
    "circuit = cirq.Circuit()\n",
    "circuit.append([H(q0), H(q1), H(q2)], strategy=InsertStrategy.NEW)\n",
    "print(circuit)"
   ]
  },
  {
   "cell_type": "markdown",
   "metadata": {},
   "source": [
    "Next up is the 'Inline' Insert Strategy which adds operations in a moment at a specific instant"
   ]
  },
  {
   "cell_type": "code",
   "execution_count": null,
   "metadata": {},
   "outputs": [],
   "source": [
    "circuit = cirq.Circuit()\n",
    "circuit.append([CZ(q1, q2)])\n",
    "circuit.append([CZ(q1, q2)])\n",
    "circuit.append([H(q0), H(q1), H(q2)], strategy=InsertStrategy.INLINE)\n",
    "print(circuit)"
   ]
  },
  {
   "cell_type": "markdown",
   "metadata": {},
   "source": [
    "Finally we have the 'New Then Inline' which has a pretty self explanatory name being a combination of new and inline strategies"
   ]
  },
  {
   "cell_type": "code",
   "execution_count": null,
   "metadata": {},
   "outputs": [],
   "source": [
    "circuit = cirq.Circuit()\n",
    "circuit.append([H(q0)])\n",
    "circuit.append([CZ(q1,q2), H(q0)], strategy=InsertStrategy.NEW_THEN_INLINE)\n",
    "print(circuit)"
   ]
  }
 ],
 "metadata": {
  "kernelspec": {
   "display_name": "Python 3",
   "language": "python",
   "name": "python3"
  },
  "language_info": {
   "codemirror_mode": {
    "name": "ipython",
    "version": 3
   },
   "file_extension": ".py",
   "mimetype": "text/x-python",
   "name": "python",
   "nbconvert_exporter": "python",
   "pygments_lexer": "ipython3",
   "version": "3.6.2"
  }
 },
 "nbformat": 4,
 "nbformat_minor": 2
}
