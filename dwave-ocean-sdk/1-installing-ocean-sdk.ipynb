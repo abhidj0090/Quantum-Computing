{
 "cells": [
  {
   "cell_type": "markdown",
   "metadata": {},
   "source": [
    "# Getting started with D-Wave\n",
    "## Ocean Tools:\n",
    "The Ocean Tools software (dwave-ocean-sdk) is needed to run any program on the D-Wave QPU (Quantum Processing Unit). In order to install the SDK, ```pip install``` should be used. Open a terminal window and type the following commands:\n",
    "```sh\n",
    "pip install --upgrade pip\n",
    "pip install dwave-ocean-sdk\n",
    "```"
   ]
  },
  {
   "cell_type": "markdown",
   "metadata": {},
   "source": [
    "### Configuration:\n",
    "The ocean sdk needs to be configured to run on a D-Wave QPU using your private API endpoint. To run the configuration utility, type ```dwave config create```\n",
    "After the command, you will be presented with a list of inputs. A sample is given below:\n",
    "```sh\n",
    "Configuration file not found; the default location is: C:\\\\Users\\\\jane\\\\AppData\\\\Local\\\\dwavesystem\\\\dwave\\\\dwave.conf\n",
    "Confirm configuration file path (editable):\n",
    "Profile (create new): prod\n",
    "API endpoint URL (editable): https://my.dwavesys.url/\n",
    "Authentication token (editable): ABC-1234567890abcdef1234567890abcdef\n",
    "Client class (qpu or sw): qpu\n",
    "Solver (can be left blank): My_DWAVE_2000Q\n",
    "Proxy URL (can be left blank):\n",
    "Configuration saved.\n",
    "```"
   ]
  },
  {
   "cell_type": "markdown",
   "metadata": {},
   "source": [
    "### Checking the Installation:\n",
    "After configuring the ocean-sdk, you can check the installation by typing ```dwave ping``` which will ping to the D-Wave QPU and will give you some basic information like the time in between catering the requests, annealing time, qpu sampling time"
   ]
  }
 ],
 "metadata": {
  "kernelspec": {
   "display_name": "Python 3",
   "language": "python",
   "name": "python3"
  },
  "language_info": {
   "codemirror_mode": {
    "name": "ipython",
    "version": 3
   },
   "file_extension": ".py",
   "mimetype": "text/x-python",
   "name": "python",
   "nbconvert_exporter": "python",
   "pygments_lexer": "ipython3",
   "version": "3.6.2"
  }
 },
 "nbformat": 4,
 "nbformat_minor": 2
}
