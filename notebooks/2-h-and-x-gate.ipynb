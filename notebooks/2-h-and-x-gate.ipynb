{
 "cells": [
  {
   "cell_type": "markdown",
   "metadata": {},
   "source": [
    "### Basic Level Circuit\n",
    "The most Basic level program considering all the factors will be something which will have a certain amount of qubits, logic gates and output.\n",
    "Import cirq and define Grid QuBits "
   ]
  },
  {
   "cell_type": "code",
   "execution_count": 1,
   "metadata": {},
   "outputs": [
    {
     "name": "stdout",
     "output_type": "stream",
     "text": [
      "[GridQubit(0, 0), GridQubit(0, 1), GridQubit(0, 2), GridQubit(1, 0), GridQubit(1, 1), GridQubit(1, 2), GridQubit(2, 0), GridQubit(2, 1), GridQubit(2, 2)]\n"
     ]
    }
   ],
   "source": [
    "import cirq\n",
    "# define the length\n",
    "length = 3\n",
    "# define qubits\n",
    "qubits = [cirq.GridQubit(i, j) for i in range(length) for j in range(length)]\n",
    "# print the qubits\n",
    "print(qubits)"
   ]
  },
  {
   "cell_type": "markdown",
   "metadata": {},
   "source": [
    "### Quantum Logic Gates\n",
    "Any function which can take a fixed number of inputs and then generate an output which can have a relation to the inputs can be called as a logic gate.\n",
    "<br/><br/>\n",
    "#### Hadamard Gate\n",
    "This gate re-distributes the probability of all of the input lines so that all of the output lines have an equal chance of being a 0 and 1\n",
    "<br/>We want to apply Hadamard (H) gate to all QuBits where i + j is even"
   ]
  },
  {
   "cell_type": "code",
   "execution_count": 2,
   "metadata": {},
   "outputs": [
    {
     "name": "stdout",
     "output_type": "stream",
     "text": [
      "(0, 0): ───H───\n",
      "\n",
      "(0, 2): ───H───\n",
      "\n",
      "(1, 1): ───H───\n",
      "\n",
      "(2, 0): ───H───\n",
      "\n",
      "(2, 2): ───H───\n"
     ]
    }
   ],
   "source": [
    "# define a circuit\n",
    "circuit = cirq.Circuit()\n",
    "circuit.append(cirq.H(q) for q in qubits if (q.row + q.col) % 2 == 0)\n",
    "print(circuit)"
   ]
  },
  {
   "cell_type": "markdown",
   "metadata": {},
   "source": [
    "#### Pauli's X Gate\n",
    "This gate flips the QuBit state from the **X-axis**. Can be partially thought of as equivalent to a **NOT** gate which flips the input state (0 as input becomes 1 as output).<br/>\n",
    "Assigning a X gate to QuBits where i + j is odd"
   ]
  },
  {
   "cell_type": "code",
   "execution_count": 3,
   "metadata": {},
   "outputs": [
    {
     "name": "stdout",
     "output_type": "stream",
     "text": [
      "(0, 0): ───H───────\n",
      "\n",
      "(0, 1): ───────X───\n",
      "\n",
      "(0, 2): ───H───────\n",
      "\n",
      "(1, 0): ───────X───\n",
      "\n",
      "(1, 1): ───H───────\n",
      "\n",
      "(1, 2): ───────X───\n",
      "\n",
      "(2, 0): ───H───────\n",
      "\n",
      "(2, 1): ───────X───\n",
      "\n",
      "(2, 2): ───H───────\n"
     ]
    }
   ],
   "source": [
    "circuit.append(cirq.X(q) for q in qubits if (q.row + q.col) % 2 == 1)\n",
    "print(circuit)"
   ]
  },
  {
   "cell_type": "code",
   "execution_count": 4,
   "metadata": {},
   "outputs": [
    {
     "name": "stdout",
     "output_type": "stream",
     "text": [
      "Moment 0: H((0, 0)) and H((0, 2)) and H((1, 1)) and H((2, 0)) and H((2, 2))\n",
      "Moment 1: X((0, 1)) and X((1, 0)) and X((1, 2)) and X((2, 1))\n"
     ]
    }
   ],
   "source": [
    "# looking at the circuit moments\n",
    "for i, m in enumerate(circuit):\n",
    "    print('Moment {}: {}'.format(i, m))"
   ]
  },
  {
   "cell_type": "code",
   "execution_count": 5,
   "metadata": {},
   "outputs": [
    {
     "name": "stdout",
     "output_type": "stream",
     "text": [
      "(0, 0): ───H───\n",
      "\n",
      "(0, 1): ───X───\n",
      "\n",
      "(0, 2): ───H───\n",
      "\n",
      "(1, 0): ───X───\n",
      "\n",
      "(1, 1): ───H───\n",
      "\n",
      "(1, 2): ───X───\n",
      "\n",
      "(2, 0): ───H───\n",
      "\n",
      "(2, 1): ───X───\n",
      "\n",
      "(2, 2): ───H───\n"
     ]
    }
   ],
   "source": [
    "# redifining the circuit with an InsertStrategy\n",
    "circuit = cirq.Circuit()\n",
    "circuit.append([cirq.H(q) for q in qubits if (q.row + q.col) % 2 == 0],\n",
    "               strategy=cirq.InsertStrategy.EARLIEST)\n",
    "circuit.append([cirq.X(q) for q in qubits if (q.row + q.col) % 2 == 1],\n",
    "               strategy=cirq.InsertStrategy.EARLIEST)\n",
    "print(circuit)"
   ]
  },
  {
   "cell_type": "code",
   "execution_count": null,
   "metadata": {},
   "outputs": [],
   "source": []
  }
 ],
 "metadata": {
  "kernelspec": {
   "display_name": "Python 3",
   "language": "python",
   "name": "python3"
  },
  "language_info": {
   "codemirror_mode": {
    "name": "ipython",
    "version": 3
   },
   "file_extension": ".py",
   "mimetype": "text/x-python",
   "name": "python",
   "nbconvert_exporter": "python",
   "pygments_lexer": "ipython3",
   "version": "3.6.2"
  }
 },
 "nbformat": 4,
 "nbformat_minor": 2
}
